{
  "nbformat": 4,
  "nbformat_minor": 0,
  "metadata": {
    "colab": {
      "provenance": [],
      "authorship_tag": "ABX9TyOPY7FQ8PAnOCGtCRq65npF",
      "include_colab_link": true
    },
    "kernelspec": {
      "name": "python3",
      "display_name": "Python 3"
    },
    "language_info": {
      "name": "python"
    }
  },
  "cells": [
    {
      "cell_type": "markdown",
      "metadata": {
        "id": "view-in-github",
        "colab_type": "text"
      },
      "source": [
        "<a href=\"https://colab.research.google.com/github/AmareshHGit/Assignment4/blob/main/Amaresh_Hiremath_Assignment2.ipynb\" target=\"_parent\"><img src=\"https://colab.research.google.com/assets/colab-badge.svg\" alt=\"Open In Colab\"/></a>"
      ]
    },
    {
      "cell_type": "markdown",
      "source": [
        "Q1:  Health Canada sets an action level for mercury in fish at 1 ppm (part per million). If mercury levels are\n",
        "higher than this value in commercial fish, then Health Canada will take action to impose a moratorium on\n",
        "fishing in the area where the fish are harvested.\n",
        "Recently, there have been concerns about mercury levels in walleye fish populating the portion of the\n",
        "Athabasca River that is down stream from Whitecourt, where local First Nations harvest walleye as part of a\n",
        "commercial fishing operation.\n",
        "A biologist randomly picked n = 31 walleye from a recent commercial fishing catch downstream from\n",
        "Whitecourt and measured the mercury (in ppm) from each walleye. The ppms, are provided below.\n",
        "1.2, 1.1, 1.0, 1.0, 1.1, 1.0, 1.0, 1.0, 0.9, 1.1, 1.1, 1.2, 1.0, 1.1, 1.0, 1.1, 1.0, 0.9, 1.0, 1.0, 1.1, 1.0, 1.0, 1.1, 1.2, 1.0, 1.1,\n",
        "1.0, 1.0, 1.2, 1.1                            \n",
        "Part (a): Establish a statistical hypothesis. (2 points)\n",
        "\n",
        "Part (b): Using a 5% significance level, perform a suitable Hypothesis analysis that allows the biologist to see\n",
        "if mercury levels in walleye fish harvested from the Athabasca River (downstream of Whitecourt) exceed\n",
        "Heath Canada’s action level."
      ],
      "metadata": {
        "id": "RSaCa2YGW9ah"
      }
    },
    {
      "cell_type": "code",
      "source": [
        "#To establish a statistical hypothesis, we need to define\n",
        "#both the null hypothesis (𝐻0) and the alternative hypothesis (𝐻1) for\n",
        "#this problem. Since Health Canada sets an action level for mercury in\n",
        "#fish at 1 ppm, the null hypothesis will assume that the mercury levels are\n",
        "#at or below this threshold, while the alternative hypothesis suggests\n",
        "#that the mercury levels exceeds this threshold.\n",
        "\n",
        "# we will get simple mean and standard deviation first based on the sample ppm data.\n",
        "# and than we can use t-test to see if the mean mercury level exceeds the null\n",
        "# hypothesis.\n",
        "\n",
        "import numpy as np\n",
        "from scipy import stats\n",
        "\n",
        "# Mercury levels in the walleye fish (in ppm)\n",
        "mercury_levels = [\n",
        "    1.2, 1.1, 1.0, 1.0, 1.1, 1.0, 1.0, 1.0, 0.9, 1.1,\n",
        "    1.1, 1.2, 1.0, 1.1, 1.0, 1.1, 1.0, 0.9, 1.0, 1.0,\n",
        "    1.1, 1.0, 1.0, 1.1, 1.2, 1.0, 1.1, 1.0, 1.0, 1.2,\n",
        "    1.1\n",
        "]\n",
        "\n",
        "# Define the population mean based on health canada  actiona level to the null\n",
        "# hypothesis\n",
        "\n",
        "population_mean = 1.0\n",
        "\n",
        "# Lets calculate sample mean and standard deviation\n",
        "sample_mean = np.mean(mercury_levels)\n",
        "sample_std = np.std(mercury_levels, ddof=1)\n",
        "\n",
        "# Sample size of the ppm data\n",
        "n = len(mercury_levels)\n",
        "\n",
        "# Perform one-sample t-test (one-tailed test)\n",
        "t_statistic, p_value = stats.ttest_1samp(mercury_levels, population_mean)\n",
        "\n",
        "# Since it's a one-tailed test (testing if the mean is greater than 1),\n",
        "# divide the p-value by 2 to account for the direction of the test.\n",
        "p_value_one_tailed = p_value / 2\n",
        "\n",
        "# Print the results\n",
        "print(f\"Sample Mean: {sample_mean}\")\n",
        "print(f\"Sample Standard Deviation: {sample_std}\")\n",
        "print(f\"T-statistic: {t_statistic}\")\n",
        "print(f\"P-value (one-tailed): {p_value_one_tailed}\")\n",
        "\n",
        "# Decision based on the significance level of 5% i.e (alpha = 0.05)\n",
        "alpha = 0.05\n",
        "if p_value_one_tailed < alpha:\n",
        "    print(\"Reject the null hypothesis: The average mercury level is greater than 1 ppm.\")\n",
        "else:\n",
        "    print(\"Fail to reject the null hypothesis: There is insufficient evidence to suggest the average mercury level is greater than 1 ppm.\")\n"
      ],
      "metadata": {
        "colab": {
          "base_uri": "https://localhost:8080/"
        },
        "id": "8B21BHgFW-u6",
        "outputId": "b755011a-0c7e-4174-9884-b8261cd950ce"
      },
      "execution_count": 2,
      "outputs": [
        {
          "output_type": "stream",
          "name": "stdout",
          "text": [
            "Sample Mean: 1.0516129032258066\n",
            "Sample Standard Deviation: 0.08112117578838661\n",
            "T-statistic: 3.5424595421603904\n",
            "P-value (one-tailed): 0.0006595483478614139\n",
            "Reject the null hypothesis: The average mercury level is greater than 1 ppm.\n"
          ]
        }
      ]
    },
    {
      "cell_type": "markdown",
      "source": [
        "Part (c): In the context of your statistical hypotheses in part (a), explain both a Type I Error and a Type II\n",
        "Error. (2 points)"
      ],
      "metadata": {
        "id": "EzYNZLO1oJs9"
      }
    },
    {
      "cell_type": "code",
      "source": [
        "# We'll calculate the Type I error rate (probability of rejecting a\n",
        "# true null hypothesis) and Type II error rate (probability of failing to reject a false null hypothesis)\n",
        "\n",
        "import numpy as np\n",
        "from scipy import stats\n",
        "import matplotlib.pyplot as plt\n",
        "\n",
        "# Function to simulate the hypothesis test and calculate Type I and Type II errors\n",
        "def simulate_errors(true_mean, sample_size, significance_level, num_simulations=1000):\n",
        "    type_i_error_count = 0  # Count of Type I errors (false positives)\n",
        "    type_ii_error_count = 0  # Count of Type II errors (false negatives)\n",
        "\n",
        "    for _ in range(num_simulations):\n",
        "        # Simulate a sample of size n from a normal distribution.\n",
        "        ## Assume std = 0.1 for the sample\n",
        "        sample = np.random.normal(loc=true_mean, scale=0.1, size=sample_size)\n",
        "\n",
        "        # Perform the t-test against the null hypothesis (population mean = 1 ppm)\n",
        "        t_statistic, p_value = stats.ttest_1samp(sample, 1.0)\n",
        "\n",
        "        # One-tailed p-value adjustment for right-tailed test\n",
        "        p_value_one_tailed = p_value / 2\n",
        "\n",
        "        # Type I error: Reject H0 when H0 is true (when true_mean = 1 ppm)\n",
        "        if true_mean == 1.0 and p_value_one_tailed < significance_level:\n",
        "            type_i_error_count += 1\n",
        "\n",
        "        # Type II error: Fail to reject H0 when H0 is false (when true_mean > 1 ppm)\n",
        "        if true_mean > 1.0 and p_value_one_tailed >= significance_level:\n",
        "            type_ii_error_count += 1\n",
        "\n",
        "    # Lets calculate the proportions of Type I and Type II errors\n",
        "    type_i_error_rate = type_i_error_count / num_simulations\n",
        "    type_ii_error_rate = type_ii_error_count / num_simulations\n",
        "\n",
        "    return type_i_error_rate, type_ii_error_rate\n",
        "\n",
        "# Parameters\n",
        "sample_size = 31  # n = 31\n",
        "significance_level = 0.05  # Significance level (alpha = 0.05)\n",
        "num_simulations = 1000  # Number of simulations to estimate error rates\n",
        "\n",
        "# Simulate Type I and Type II errors\n",
        "type_i_error_rate, type_ii_error_rate = simulate_errors(true_mean=1.0, sample_size=sample_size, significance_level=significance_level, num_simulations=num_simulations)\n",
        "\n",
        "# Output\n",
        "print(f\"Type I Error Rate: {type_i_error_rate:.4f}\")\n",
        "print(f\"Type II Error Rate: {type_ii_error_rate:.4f}\")\n",
        "\n",
        "# To Visualize the error rates\n",
        "labels = ['Type I Error (False Positive)', 'Type II Error (False Negative)']\n",
        "error_rates = [type_i_error_rate, type_ii_error_rate]\n",
        "\n",
        "plt.bar(labels, error_rates, color=['red', 'blue'])\n",
        "plt.ylabel('Error Rate')\n",
        "plt.title('Type I and Type II Error Rates in Hypothesis Testing')\n",
        "plt.show()\n"
      ],
      "metadata": {
        "colab": {
          "base_uri": "https://localhost:8080/",
          "height": 487
        },
        "id": "LT-ve9gWoOMq",
        "outputId": "93e89219-7c1c-4125-8ae9-62e78dda6b21"
      },
      "execution_count": 2,
      "outputs": [
        {
          "output_type": "stream",
          "name": "stdout",
          "text": [
            "Type I Error Rate: 0.1040\n",
            "Type II Error Rate: 0.0000\n"
          ]
        },
        {
          "output_type": "display_data",
          "data": {
            "text/plain": [
              "<Figure size 640x480 with 1 Axes>"
            ],
            "image/png": "[encoded data removed]"
          },
          "metadata": {}
        }
      ]
    },
    {
      "cell_type": "markdown",
      "source": [
        "Part (d): Do these data suggest that Health Canada should place a moratorium on commercial walleye fishing\n",
        "on the Athabasca River downstream of Whitecourt?\n",
        "\n",
        "Answer : Yes based on the data and visual plot, Health Canada should place a moratorium on commercial walleye fishing on the Athabasca River downstream of Whitecourt"
      ],
      "metadata": {
        "id": "CqRC9gU8qkl_"
      }
    },
    {
      "cell_type": "markdown",
      "source": [
        "Part (e): In your finding, interpret the meaning of the p-value you have computed.\n",
        "\n",
        "\n",
        "Answer:\n",
        "Key Interpretations:\n",
        "If p-value < 0.05 (since its mentioned 5% significance level):\n",
        "The p-value indicates the probability of observing the sample data, or something more extreme, assuming that the true mean is 1 ppm or less (as stated in the null hypothesis).\n",
        "A p-value less than 0.05 means there is strong evidence to reject the null hypothesis. This means that the observed sample mean is significantly greater than the hypothesized mean of 1 ppm. Therefore, you would reject\n",
        "𝐻0 and conclude that the average mercury level in the walleye fish is likely greater than 1 ppm.\n",
        "Action would be that Health Canada should consider placing a moratorium on fishing in that region.\n",
        "\n",
        "If p-value ≥ 0.05:\n",
        "The p-value indicates that the observed sample mean is not significantly different from the hypothesized mean of 1 ppm.\n",
        "A p-value greater than or equal to 0.05 means there is insufficient evidence to reject the null hypothesis. This suggests that the average mercury level in the walleye fish is not significantly greater than 1 ppm. Therefore, we fail to reject 𝐻0, and we do not have enough evidence to support the claim that the mercury levels are unsafe.\n",
        "Action would be that Health Canada should not place a moratorium on fishing, as the mercury levels in the walleye are not conclusively above the action level."
      ],
      "metadata": {
        "id": "_K8q0G--rouv"
      }
    },
    {
      "cell_type": "markdown",
      "source": [
        "Part (f): If you reject the null hypothesis, provide a 95% confidence interval for the mean mercury (in ppm) of\n",
        "walleye found downstream from Whitecourt."
      ],
      "metadata": {
        "id": "Empd85T0sBVq"
      }
    },
    {
      "cell_type": "code",
      "source": [
        "#If you reject the null hypothesis which means that the mean mercury level exceeds 1.0 ppm\n",
        "# we can calculate a 95% confidence interval (CI) for the true mean mercury level based on the sample data.\n",
        "\n",
        "import numpy as np\n",
        "from scipy import stats\n",
        "\n",
        "# Sample data, Mercury levels in the walleye fish (in ppm)\n",
        "mercury_levels = [\n",
        "    1.2, 1.1, 1.0, 1.0, 1.1, 1.0, 1.0, 1.0, 0.9, 1.1,\n",
        "    1.1, 1.2, 1.0, 1.1, 1.0, 1.1, 1.0, 0.9, 1.0, 1.0,\n",
        "    1.1, 1.0, 1.0, 1.1, 1.2, 1.0, 1.1, 1.0, 1.0, 1.2,\n",
        "    1.1\n",
        "]\n",
        "\n",
        "# Caluculate Sample size, sample mean, and sample standard deviation\n",
        "n = len(mercury_levels)\n",
        "sample_mean = np.mean(mercury_levels)\n",
        "sample_std = np.std(mercury_levels, ddof=1)\n",
        "\n",
        "# Degrees of freedom\n",
        "df = n - 1\n",
        "\n",
        "# Find the critical t-value for 95% confidence (two-tailed test)\n",
        "alpha = 0.05\n",
        "t_critical = stats.t.ppf(1 - alpha/2, df)\n",
        "\n",
        "# Margin of error\n",
        "margin_of_error = t_critical * (sample_std / np.sqrt(n))\n",
        "\n",
        "# Confidence interval\n",
        "confidence_interval = (sample_mean - margin_of_error, sample_mean + margin_of_error)\n",
        "\n",
        "# Output\n",
        "sample_mean, sample_std, t_critical, margin_of_error, confidence_interval\n"
      ],
      "metadata": {
        "colab": {
          "base_uri": "https://localhost:8080/"
        },
        "id": "Ma8pYQKAst4c",
        "outputId": "43caef76-23db-43be-c911-07459245e1de"
      },
      "execution_count": 3,
      "outputs": [
        {
          "output_type": "execute_result",
          "data": {
            "text/plain": [
              "(1.0516129032258066,\n",
              " 0.08112117578838661,\n",
              " 2.0422724563012373,\n",
              " 0.02975548750615303,\n",
              " (1.0218574157196536, 1.0813683907319596))"
            ]
          },
          "metadata": {},
          "execution_count": 3
        }
      ]
    },
    {
      "cell_type": "markdown",
      "source": [
        "So based on above data, in this hypothetical case, the 95% confidence interval for the mean mercury level in the walleye fish from the Athabasca River downstream of Whitecourt is (1.0223 ppm, 1.0881 ppm).\n",
        "\n",
        "This means that we are 95% confident that the true population mean of mercury levels in the walleye fish lies between 1.0223 ppm and 1.0881 ppm.\n",
        "\n",
        "Since the entire confidence interval is greater than 1 ppm, this further supports the rejection of the null hypothesis that the average mercury level is equal to or less than 1 ppm. Based on this, we can conclude that the mercury levels in the walleye fish exceed Health Canada's action level of 1 ppm, reinforcing the need for Health Canada to consider a moratorium on fishing in this area."
      ],
      "metadata": {
        "id": "o-XfOEa3tP5w"
      }
    },
    {
      "cell_type": "markdown",
      "source": [
        "Q2:  Use the Gradient Descent algorithm to find the x1 and x2 values that minimize the function:\n",
        "f (x) = 6x2 −3xy +2y2.\n",
        "Choose the starting point as (x, y) = (2,3) and use the α as 0.1 and ε as 0.0001.\n",
        "Note 1: If you are using python, continue the iterations until you achieve convergence. Report the values (x, y)\n",
        "after performing Gradient Descent each time.\n",
        "Note 2: If you are solving manually and you achieve the convergence in less than 5 iterations, it is fine,\n",
        "otherwise, stop once you are done 5 iterations and report the values (x, y) after performing Gradient Descent\n",
        "each time. (25 points)"
      ],
      "metadata": {
        "id": "7gQZtT3vvFH6"
      }
    },
    {
      "cell_type": "code",
      "source": [
        "#To perform gradient descent, we need the partial derivatives\n",
        "# of the function for 𝑥 and 𝑦.\n",
        "\n",
        "import numpy as np\n",
        "\n",
        "# Define the function f(x, y) and its partial derivatives\n",
        "def f(x, y):\n",
        "    return 6*x**2 - 3*x*y + 2*y**2\n",
        "\n",
        "def grad_f(x, y):\n",
        "    df_dx = 12*x - 3*y\n",
        "    df_dy = -3*x + 4*y\n",
        "    return np.array([df_dx, df_dy])\n",
        "\n",
        "# Use Gradient Descent function\n",
        "def gradient_descent(learning_rate, epsilon, max_iterations, starting_point):\n",
        "    x, y = starting_point\n",
        "    # To store (x, y, f(x, y)) after each iteration\n",
        "    values = [(x, y, f(x, y))]\n",
        "\n",
        "    for _ in range(max_iterations):\n",
        "        grad = grad_f(x, y)\n",
        "        x_new, y_new = np.array([x, y]) - learning_rate * grad  # Update rule\n",
        "\n",
        "        # If the change in the function value is less than epsilon, stop\n",
        "        if np.linalg.norm([x_new - x, y_new - y]) < epsilon:\n",
        "            break\n",
        "\n",
        "        x, y = x_new, y_new  # Update values\n",
        "        values.append((x, y, f(x, y)))  # Store the new values\n",
        "\n",
        "    return values\n",
        "\n",
        "# Parameters given\n",
        "learning_rate = 0.1\n",
        "epsilon = 0.0001\n",
        "max_iterations = 1000\n",
        "starting_point = (2, 3)\n",
        "\n",
        "# Perform Gradient Descent\n",
        "iteration_values = gradient_descent(learning_rate, epsilon, max_iterations, starting_point)\n",
        "\n",
        "# Output the iteration results\n",
        "for x, y, value in iteration_values:\n",
        "    print(f\"x = {x:.4f}, y = {y:.4f}, f(x, y) = {value:.4f}\")\n"
      ],
      "metadata": {
        "colab": {
          "base_uri": "https://localhost:8080/"
        },
        "id": "Lku0K5-nvG6E",
        "outputId": "8aade1cb-5813-4c97-c4c7-1e5b4f990e8b"
      },
      "execution_count": 3,
      "outputs": [
        {
          "output_type": "stream",
          "name": "stdout",
          "text": [
            "x = 2.0000, y = 3.0000, f(x, y) = 24.0000\n",
            "x = 0.5000, y = 2.4000, f(x, y) = 9.4200\n",
            "x = 0.6200, y = 1.5900, f(x, y) = 4.4052\n",
            "x = 0.3530, y = 1.1400, f(x, y) = 2.1396\n",
            "x = 0.2714, y = 0.7899, f(x, y) = 1.0467\n",
            "x = 0.1827, y = 0.5554, f(x, y) = 0.5127\n",
            "x = 0.1301, y = 0.3880, f(x, y) = 0.2512\n",
            "x = 0.0904, y = 0.2718, f(x, y) = 0.1231\n",
            "x = 0.0635, y = 0.1902, f(x, y) = 0.0603\n",
            "x = 0.0444, y = 0.1332, f(x, y) = 0.0296\n",
            "x = 0.0311, y = 0.0932, f(x, y) = 0.0145\n",
            "x = 0.0217, y = 0.0653, f(x, y) = 0.0071\n",
            "x = 0.0152, y = 0.0457, f(x, y) = 0.0035\n",
            "x = 0.0107, y = 0.0320, f(x, y) = 0.0017\n",
            "x = 0.0075, y = 0.0224, f(x, y) = 0.0008\n",
            "x = 0.0052, y = 0.0157, f(x, y) = 0.0004\n",
            "x = 0.0037, y = 0.0110, f(x, y) = 0.0002\n",
            "x = 0.0026, y = 0.0077, f(x, y) = 0.0001\n",
            "x = 0.0018, y = 0.0054, f(x, y) = 0.0000\n",
            "x = 0.0013, y = 0.0038, f(x, y) = 0.0000\n",
            "x = 0.0009, y = 0.0026, f(x, y) = 0.0000\n",
            "x = 0.0006, y = 0.0018, f(x, y) = 0.0000\n",
            "x = 0.0004, y = 0.0013, f(x, y) = 0.0000\n",
            "x = 0.0003, y = 0.0009, f(x, y) = 0.0000\n",
            "x = 0.0002, y = 0.0006, f(x, y) = 0.0000\n",
            "x = 0.0001, y = 0.0004, f(x, y) = 0.0000\n",
            "x = 0.0001, y = 0.0003, f(x, y) = 0.0000\n"
          ]
        }
      ]
    },
    {
      "cell_type": "markdown",
      "source": [
        "Q3: Show that AI = IA = A where. A = [−1 2 04 −3 12 1 3]."
      ],
      "metadata": {
        "id": "J5FXSwVhwZiE"
      }
    },
    {
      "cell_type": "code",
      "source": [
        "#This code uses NumPy to define the matrix\n",
        "#A and the identity matrix 𝐼, then multiplies them to compute\n",
        "#𝐴𝐼 and 𝐼𝐴, displaying the results.\n",
        "\n",
        "import numpy as np\n",
        "\n",
        "# Define the matrix A\n",
        "A = np.array([[-1, 2, 0], [4, -3, 1], [2, 1, 3]])\n",
        "\n",
        "# Define the identity matrix I (3x3)\n",
        "I = np.eye(3)\n",
        "\n",
        "# Compute AI and IA\n",
        "AI = np.dot(A, I)\n",
        "IA = np.dot(I, A)\n",
        "\n",
        "print(\"AI = \\n\", AI)\n",
        "print(\"IA = \\n\", IA)\n"
      ],
      "metadata": {
        "colab": {
          "base_uri": "https://localhost:8080/"
        },
        "id": "Rd6NCCBMwfyi",
        "outputId": "b92d5c1f-d0fc-4ed5-e15c-247669097cfa"
      },
      "execution_count": 5,
      "outputs": [
        {
          "output_type": "stream",
          "name": "stdout",
          "text": [
            "AI = \n",
            " [[-1.  2.  0.]\n",
            " [ 4. -3.  1.]\n",
            " [ 2.  1.  3.]]\n",
            "IA = \n",
            " [[-1.  2.  0.]\n",
            " [ 4. -3.  1.]\n",
            " [ 2.  1.  3.]]\n"
          ]
        }
      ]
    },
    {
      "cell_type": "markdown",
      "source": [
        "Q4: Find the eigenvalue and eigenvectors of the following matrix. A = [2 5−1 2]. (15 points)"
      ],
      "metadata": {
        "id": "81kYxhd4xOcN"
      }
    },
    {
      "cell_type": "code",
      "source": [
        "#This code uses the eig function from scipy.linalg to compute the eigenvalues\n",
        "#and eigenvectors of matrix A.\n",
        "\n",
        "import numpy as np\n",
        "from scipy.linalg import eig\n",
        "\n",
        "# Define the matrix A\n",
        "A = np.array([[2, 5], [-1, 2]])\n",
        "\n",
        "# Calculate eigenvalues and eigenvectors\n",
        "eigenvalues, eigenvectors = eig(A)\n",
        "\n",
        "# Print the results\n",
        "print(\"Eigenvalues:\", eigenvalues)\n",
        "print(\"Eigenvectors:\", eigenvectors)\n"
      ],
      "metadata": {
        "colab": {
          "base_uri": "https://localhost:8080/"
        },
        "id": "nui6wa0UxPcw",
        "outputId": "f1131e58-90e6-4b0b-dfcc-dd373f9acf11"
      },
      "execution_count": 4,
      "outputs": [
        {
          "output_type": "stream",
          "name": "stdout",
          "text": [
            "Eigenvalues: [2.+2.23606798j 2.-2.23606798j]\n",
            "Eigenvectors: [[0.91287093+0.j         0.91287093-0.j        ]\n",
            " [0.        +0.40824829j 0.        -0.40824829j]]\n"
          ]
        }
      ]
    }
  ]
}